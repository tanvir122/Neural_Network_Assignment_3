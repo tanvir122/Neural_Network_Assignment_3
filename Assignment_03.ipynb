{
 "cells": [
  {
   "cell_type": "code",
   "execution_count": 15,
   "id": "64473d15",
   "metadata": {},
   "outputs": [],
   "source": [
    "import numpy as np\n",
    "import matplotlib.pyplot as plt\n",
    "import matplotlib.colors\n",
    "import pandas as pd\n",
    "from sklearn.model_selection import train_test_split\n",
    "from sklearn.metrics import accuracy_score, mean_squared_error, log_loss\n",
    "from tqdm import tqdm_notebook \n",
    "import seaborn as sns\n",
    "from IPython.display import HTML\n",
    "from sklearn.preprocessing import StandardScaler\n",
    "\n",
    "\n",
    "from sklearn.preprocessing import OneHotEncoder\n",
    "from sklearn.datasets import make_blobs"
   ]
  },
  {
   "cell_type": "code",
   "execution_count": 16,
   "id": "e8f55239",
   "metadata": {},
   "outputs": [],
   "source": [
    "class FFSN_MultiClass_Specific:\n",
    "  \n",
    "  def __init__(self):\n",
    "    np.random.seed(0)\n",
    "    self.w1 = np.random.randn()\n",
    "    self.w2 = np.random.randn()\n",
    "    self.w3 = np.random.randn()\n",
    "    self.w4 = np.random.randn()\n",
    "    self.w5 = np.random.randn()\n",
    "    self.w6 = np.random.randn()\n",
    "    self.w7 = np.random.randn()\n",
    "    self.w8 = np.random.randn()\n",
    "    self.w9 = np.random.randn()\n",
    "    self.w10 = np.random.randn()\n",
    "    self.w11 = np.random.randn()\n",
    "    self.w12 = np.random.randn()\n",
    "    self.w13 = np.random.randn()\n",
    "    self.w14 = np.random.randn()\n",
    "    self.b1 = 0\n",
    "    self.b2 = 0\n",
    "    self.b3 = 0\n",
    "    self.b4 = 0\n",
    "    self.b5 = 0\n",
    "  \n",
    "  def sigmoid(self, x):\n",
    "    return 1.0/(1.0 + np.exp(-x))\n",
    "  \n",
    "  def forward_pass(self, x):\n",
    "    # input layer\n",
    "    self.x1, self.x2, self.x3, self.x4 = x\n",
    "    \n",
    "    # hidden layer\n",
    "    self.a1 = self.w1*self.x1 + self.w3*self.x2 + self.w5*self.x3 + self.w7*self.x4 + self.b1\n",
    "    self.h1 = self.sigmoid(self.a1)\n",
    "    self.a2 = self.w2*self.x1 + self.w4*self.x2 + self.w6*self.x3 + self.w8*self.x4 + self.b2\n",
    "    self.h2 = self.sigmoid(self.a2)\n",
    "    \n",
    "    # output layer\n",
    "    self.a3 = self.w9*self.h1 + self.w12*self.h2 + self.b3\n",
    "    self.a4 = self.w10*self.h1 + self.w13*self.h2 + self.b4\n",
    "    self.a5 = self.w11*self.h1 + self.w14*self.h2 + self.b5\n",
    "    sum_exps = np.sum([np.exp(self.a3), np.exp(self.a4), np.exp(self.a5)])\n",
    "    self.h3 = np.exp(self.a3)/sum_exps\n",
    "    self.h4 = np.exp(self.a4)/sum_exps\n",
    "    self.h5 = np.exp(self.a5)/sum_exps\n",
    "    \n",
    "    return np.array([self.h3, self.h4, self.h5])\n",
    "  \n",
    "  def grad(self, x, y):\n",
    "    self.forward_pass(x)\n",
    "    self.y1, self.y2, self.y3= y\n",
    "    \n",
    "    self.dw9 = (self.h3-self.y1) * self.h1 \n",
    "    self.dw12 = (self.h3-self.y1) * self.h2\n",
    "    self.db3 = (self.h3-self.y1)\n",
    "                    \n",
    "    self.dw10 = (self.h4-self.y2) * self.h1\n",
    "    self.dw13 = (self.h4-self.y2) * self.h2\n",
    "    self.db4 = (self.h4-self.y2)\n",
    "    \n",
    "    self.dw11 = (self.h5-self.y3) * self.h1\n",
    "    self.dw14 = (self.h5-self.y3) * self.h2\n",
    "    self.db5 = (self.h5-self.y3)\n",
    "                    \n",
    "    self.dh1 = (self.h3-self.y1)*self.w9 + (self.h4-self.y2)*self.w10 + (self.h5-self.y3)*self.w11\n",
    "    self.dw1 = self.dh1 * self.h1*(1-self.h1) * self.x1\n",
    "    self.dw3 = self.dh1 * self.h1*(1-self.h1) * self.x2\n",
    "    self.dw5 = self.dh1 * self.h1*(1-self.h1) * self.x3\n",
    "    self.dw7 = self.dh1 * self.h1*(1-self.h1) * self.x4\n",
    "    self.db1 = self.dh1 * self.h1*(1-self.h1)\n",
    "                    \n",
    "    self.dh2 = (self.h3-self.y1)*self.w12 + (self.h4-self.y2)*self.w13 + (self.h5-self.y3)*self.w14\n",
    "    self.dw2 = self.dh2 * self.h2*(1-self.h2) * self.x1\n",
    "    self.dw4 = self.dh2 * self.h2*(1-self.h2) * self.x2\n",
    "    self.dw6 = self.dh2 * self.h2*(1-self.h2) * self.x3\n",
    "    self.dw8 = self.dh2 * self.h2*(1-self.h2) * self.x4\n",
    "    self.db2 = self.dh2 * self.h2*(1-self.h2)\n",
    "    \n",
    "  \n",
    "  def fit(self, X, Y, epochs=1, learning_rate=1, display_loss=False, display_weight=False):\n",
    "      \n",
    "    if display_loss:\n",
    "      loss = {}\n",
    "    \n",
    "    for i in tqdm_notebook(range(epochs), total=epochs, unit=\"epoch\"):\n",
    "      dw1, dw2, dw3, dw4, dw5, dw6, dw7, dw8, dw9, dw10, dw11, dw12, dw13, dw14, db1, db2, db3, db4, db5  = [0]*19\n",
    "      for x, y in zip(X, Y):\n",
    "        self.grad(x, y)\n",
    "        dw1 += self.dw1\n",
    "        dw2 += self.dw2\n",
    "        dw3 += self.dw3\n",
    "        dw4 += self.dw4\n",
    "        dw5 += self.dw5\n",
    "        dw6 += self.dw6\n",
    "        dw7 += self.dw7\n",
    "        dw8 += self.dw8\n",
    "        dw9 += self.dw9\n",
    "        dw10 += self.dw10\n",
    "        dw11 += self.dw11\n",
    "        dw12 += self.dw12\n",
    "        dw13 += self.dw13\n",
    "        dw14 += self.dw14\n",
    "        db1 += self.db1\n",
    "        db2 += self.db2\n",
    "        db3 += self.db3\n",
    "        db4 += self.db4\n",
    "        db5 += self.db5\n",
    "        \n",
    "      m = X.shape[0]\n",
    "      self.w1 -= learning_rate * dw1 / m\n",
    "      self.w2 -= learning_rate * dw2 / m\n",
    "      self.w3 -= learning_rate * dw3 / m\n",
    "      self.w4 -= learning_rate * dw4 / m\n",
    "      self.w5 -= learning_rate * dw5 / m\n",
    "      self.w6 -= learning_rate * dw6 / m\n",
    "      self.w7 -= learning_rate * dw7 / m\n",
    "      self.w8 -= learning_rate * dw8 / m\n",
    "      self.w9 -= learning_rate * dw9 / m\n",
    "      self.w10 -= learning_rate * dw10 / m\n",
    "      self.w11 -= learning_rate * dw11 / m\n",
    "      self.w12 -= learning_rate * dw12 / m\n",
    "      self.w13 -= learning_rate * dw13 / m\n",
    "      self.w14 -= learning_rate * dw14 / m\n",
    "      self.b1 -= learning_rate * db1 / m\n",
    "      self.b2 -= learning_rate * db2 / m\n",
    "      self.b3 -= learning_rate * db3 / m\n",
    "      self.b4 -= learning_rate * db4 / m\n",
    "      self.b5 -= learning_rate * db5 / m\n",
    "      \n",
    "      if display_loss:\n",
    "        Y_pred = self.predict(X)\n",
    "        loss[i] = log_loss(np.argmax(Y, axis=1), Y_pred)\n",
    "        \n",
    "      if display_weight:\n",
    "        weight_matrix = np.array([[self.b3, self.w5, self.w6, \n",
    "                                   self.b4, self.w7, self.w8, \n",
    "                                   self.b5, self.w9, self.w10, \n",
    "                                   self.b6, self.w11, self.w12], \n",
    "                                  [0, 0, 0,\n",
    "                                   self.b1, self.w1, self.w2,\n",
    "                                   self.b2, self.w3, self.w4, \n",
    "                                   0, 0, 0]])\n",
    "        weight_matrices.append(weight_matrix)\n",
    "    \n",
    "    if display_loss:\n",
    "      plt.plot(loss.values())\n",
    "      plt.xlabel('Epochs')\n",
    "      plt.ylabel('Log Loss')\n",
    "      plt.show()\n",
    "      \n",
    "  def predict(self, X):\n",
    "    Y_pred = []\n",
    "    for x in X:\n",
    "      y_pred = self.forward_pass(x)\n",
    "      Y_pred.append(y_pred)\n",
    "    return np.array(Y_pred)"
   ]
  },
  {
   "cell_type": "code",
   "execution_count": 28,
   "id": "b9f4fc84",
   "metadata": {},
   "outputs": [
    {
     "data": {
      "text/html": [
       "<div>\n",
       "<style scoped>\n",
       "    .dataframe tbody tr th:only-of-type {\n",
       "        vertical-align: middle;\n",
       "    }\n",
       "\n",
       "    .dataframe tbody tr th {\n",
       "        vertical-align: top;\n",
       "    }\n",
       "\n",
       "    .dataframe thead th {\n",
       "        text-align: right;\n",
       "    }\n",
       "</style>\n",
       "<table border=\"1\" class=\"dataframe\">\n",
       "  <thead>\n",
       "    <tr style=\"text-align: right;\">\n",
       "      <th></th>\n",
       "      <th>Cgpa</th>\n",
       "      <th>Age</th>\n",
       "      <th>IETLS</th>\n",
       "      <th>Publications</th>\n",
       "      <th>University</th>\n",
       "    </tr>\n",
       "  </thead>\n",
       "  <tbody>\n",
       "    <tr>\n",
       "      <th>0</th>\n",
       "      <td>3.50</td>\n",
       "      <td>28</td>\n",
       "      <td>5.4</td>\n",
       "      <td>6</td>\n",
       "      <td>Seattle</td>\n",
       "    </tr>\n",
       "    <tr>\n",
       "      <th>1</th>\n",
       "      <td>3.79</td>\n",
       "      <td>25</td>\n",
       "      <td>3.0</td>\n",
       "      <td>1</td>\n",
       "      <td>Cambridge</td>\n",
       "    </tr>\n",
       "    <tr>\n",
       "      <th>2</th>\n",
       "      <td>3.90</td>\n",
       "      <td>22</td>\n",
       "      <td>8.5</td>\n",
       "      <td>20</td>\n",
       "      <td>Chicago</td>\n",
       "    </tr>\n",
       "    <tr>\n",
       "      <th>3</th>\n",
       "      <td>3.58</td>\n",
       "      <td>27</td>\n",
       "      <td>5.3</td>\n",
       "      <td>7</td>\n",
       "      <td>Seattle</td>\n",
       "    </tr>\n",
       "    <tr>\n",
       "      <th>4</th>\n",
       "      <td>3.78</td>\n",
       "      <td>26</td>\n",
       "      <td>3.4</td>\n",
       "      <td>2</td>\n",
       "      <td>Cambridge</td>\n",
       "    </tr>\n",
       "    <tr>\n",
       "      <th>5</th>\n",
       "      <td>4.00</td>\n",
       "      <td>24</td>\n",
       "      <td>9.1</td>\n",
       "      <td>22</td>\n",
       "      <td>Chicago</td>\n",
       "    </tr>\n",
       "    <tr>\n",
       "      <th>6</th>\n",
       "      <td>3.48</td>\n",
       "      <td>29</td>\n",
       "      <td>5.6</td>\n",
       "      <td>7</td>\n",
       "      <td>Seattle</td>\n",
       "    </tr>\n",
       "    <tr>\n",
       "      <th>7</th>\n",
       "      <td>3.77</td>\n",
       "      <td>26</td>\n",
       "      <td>3.6</td>\n",
       "      <td>3</td>\n",
       "      <td>Cambridge</td>\n",
       "    </tr>\n",
       "    <tr>\n",
       "      <th>8</th>\n",
       "      <td>3.99</td>\n",
       "      <td>23</td>\n",
       "      <td>7.0</td>\n",
       "      <td>12</td>\n",
       "      <td>Chicago</td>\n",
       "    </tr>\n",
       "    <tr>\n",
       "      <th>9</th>\n",
       "      <td>3.58</td>\n",
       "      <td>28</td>\n",
       "      <td>5.9</td>\n",
       "      <td>8</td>\n",
       "      <td>Seattle</td>\n",
       "    </tr>\n",
       "  </tbody>\n",
       "</table>\n",
       "</div>"
      ],
      "text/plain": [
       "   Cgpa  Age  IETLS  Publications University\n",
       "0  3.50   28    5.4             6    Seattle\n",
       "1  3.79   25    3.0             1  Cambridge\n",
       "2  3.90   22    8.5            20    Chicago\n",
       "3  3.58   27    5.3             7    Seattle\n",
       "4  3.78   26    3.4             2  Cambridge\n",
       "5  4.00   24    9.1            22    Chicago\n",
       "6  3.48   29    5.6             7    Seattle\n",
       "7  3.77   26    3.6             3  Cambridge\n",
       "8  3.99   23    7.0            12    Chicago\n",
       "9  3.58   28    5.9             8    Seattle"
      ]
     },
     "execution_count": 28,
     "metadata": {},
     "output_type": "execute_result"
    }
   ],
   "source": [
    "df = pd.read_csv(\"data-set.csv\")\n",
    "df.head(10)"
   ]
  },
  {
   "cell_type": "code",
   "execution_count": 29,
   "id": "18732148",
   "metadata": {},
   "outputs": [],
   "source": [
    "y = df['University']\n",
    "x = df.drop(['University'], axis=1)"
   ]
  },
  {
   "cell_type": "code",
   "execution_count": 30,
   "id": "7edb52c2",
   "metadata": {},
   "outputs": [
    {
     "name": "stdout",
     "output_type": "stream",
     "text": [
      "(36, 4) (12, 4) (48,)\n"
     ]
    }
   ],
   "source": [
    "X_train, X_val, Y_train, Y_val = train_test_split(x, y, random_state=0)\n",
    "print(X_train.shape, X_val.shape, y.shape)"
   ]
  },
  {
   "cell_type": "code",
   "execution_count": 31,
   "id": "b98e251f",
   "metadata": {},
   "outputs": [
    {
     "name": "stdout",
     "output_type": "stream",
     "text": [
      "(36, 4) (12, 4) (48,)\n"
     ]
    }
   ],
   "source": [
    "sc = StandardScaler()\n",
    "X_train=sc.fit_transform(X_train)\n",
    "X_val=sc.transform(X_val)\n",
    "print(X_train.shape, X_val.shape, y.shape)"
   ]
  },
  {
   "cell_type": "code",
   "execution_count": 32,
   "id": "a8932c1f",
   "metadata": {},
   "outputs": [
    {
     "name": "stdout",
     "output_type": "stream",
     "text": [
      "(36, 3) (12, 3)\n"
     ]
    }
   ],
   "source": [
    "enc = OneHotEncoder()\n",
    "y_OH_train = enc.fit_transform(np.expand_dims(Y_train,1)).toarray()\n",
    "y_OH_val = enc.fit_transform(np.expand_dims(Y_val,1)).toarray()\n",
    "print(y_OH_train.shape, y_OH_val.shape)"
   ]
  },
  {
   "cell_type": "code",
   "execution_count": 33,
   "id": "194cdc26",
   "metadata": {},
   "outputs": [
    {
     "name": "stderr",
     "output_type": "stream",
     "text": [
      "C:\\Users\\Tanvir\\AppData\\Local\\Temp/ipykernel_12668/340223104.py:85: TqdmDeprecationWarning: This function will be removed in tqdm==5.0.0\n",
      "Please use `tqdm.notebook.tqdm` instead of `tqdm.tqdm_notebook`\n",
      "  for i in tqdm_notebook(range(epochs), total=epochs, unit=\"epoch\"):\n"
     ]
    },
    {
     "data": {
      "application/vnd.jupyter.widget-view+json": {
       "model_id": "49143c5abaa94384a58981e264347a75",
       "version_major": 2,
       "version_minor": 0
      },
      "text/plain": [
       "  0%|          | 0/1000 [00:00<?, ?epoch/s]"
      ]
     },
     "metadata": {},
     "output_type": "display_data"
    }
   ],
   "source": [
    "ffsn_multi_specific = FFSN_MultiClass_Specific()\n",
    "ffsn_multi_specific.fit(X_train,y_OH_train,epochs=1000,learning_rate=1)"
   ]
  },
  {
   "cell_type": "code",
   "execution_count": 34,
   "id": "8f3aa1c0",
   "metadata": {},
   "outputs": [
    {
     "name": "stdout",
     "output_type": "stream",
     "text": [
      "Training accuracy 1.0\n",
      "Validation accuracy 1.0\n"
     ]
    }
   ],
   "source": [
    "Y_pred_train = ffsn_multi_specific.predict(X_train)\n",
    "Y_pred_train = np.argmax(Y_pred_train,1)\n",
    "\n",
    "Y_pred_val = ffsn_multi_specific.predict(X_val)\n",
    "Y_pred_val = np.argmax(Y_pred_val,1)\n",
    "\n",
    "new_y_OH_val = np.argmax(y_OH_val,1)\n",
    "new_y_OH_train = np.argmax(y_OH_train,1)\n",
    "\n",
    "\n",
    "accuracy_train = accuracy_score(Y_pred_train, new_y_OH_train)\n",
    "accuracy_val = accuracy_score(Y_pred_val, new_y_OH_val)\n",
    "\n",
    "print(\"Training accuracy\", round(accuracy_train, 2))\n",
    "print(\"Validation accuracy\", round(accuracy_val, 2))"
   ]
  },
  {
   "cell_type": "code",
   "execution_count": 35,
   "id": "ec06a9a6",
   "metadata": {},
   "outputs": [
    {
     "data": {
      "text/plain": [
       "array([2], dtype=int64)"
      ]
     },
     "execution_count": 35,
     "metadata": {},
     "output_type": "execute_result"
    }
   ],
   "source": [
    "qry = np.argmax(ffsn_multi_specific.predict([[3.5,24,9.1,20]]),1)\n",
    "qry"
   ]
  },
  {
   "cell_type": "code",
   "execution_count": null,
   "id": "cd7cfc91",
   "metadata": {},
   "outputs": [],
   "source": []
  }
 ],
 "metadata": {
  "kernelspec": {
   "display_name": "Python 3 (ipykernel)",
   "language": "python",
   "name": "python3"
  },
  "language_info": {
   "codemirror_mode": {
    "name": "ipython",
    "version": 3
   },
   "file_extension": ".py",
   "mimetype": "text/x-python",
   "name": "python",
   "nbconvert_exporter": "python",
   "pygments_lexer": "ipython3",
   "version": "3.9.7"
  }
 },
 "nbformat": 4,
 "nbformat_minor": 5
}
